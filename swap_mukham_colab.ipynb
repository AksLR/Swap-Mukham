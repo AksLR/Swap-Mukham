{
  "nbformat": 4,
  "nbformat_minor": 0,
  "metadata": {
    "colab": {
      "provenance": [],
      "gpuType": "T4",
      "include_colab_link": true
    },
    "kernelspec": {
      "name": "python3",
      "display_name": "Python 3"
    },
    "language_info": {
      "name": "python"
    },
    "accelerator": "GPU"
  },
  "cells": [
    {
      "cell_type": "markdown",
      "metadata": {
        "id": "view-in-github",
        "colab_type": "text"
      },
      "source": [
        "<a href=\"https://colab.research.google.com/github/harisreedhar/Swap-Mukham/blob/main/swap_mukham_colab.ipynb\" target=\"_parent\"><img src=\"https://colab.research.google.com/assets/colab-badge.svg\" alt=\"Open In Colab\"/></a>"
      ]
    },
    {
      "cell_type": "markdown",
      "source": [
        "# 🗿 **Swap-Mukham**\n",
        "*Face swap app based on insightface inswapper.*\n",
        "- [Github](https://github.com/harisreedhar/Swap-Mukham)\n",
        "- [Disclaimer](https://github.com/harisreedhar/Swap-Mukham#disclaimer)"
      ],
      "metadata": {
        "id": "bypvIQG5RHl9"
      }
    },
    {
      "cell_type": "markdown",
      "source": [
        "# Clone Repository"
      ],
      "metadata": {
        "id": "csC_DX5zWLEU"
      }
    },
    {
      "cell_type": "code",
      "execution_count": null,
      "metadata": {
        "id": "klcx2cKDKX5x"
      },
      "outputs": [],
      "source": [
        "#@title\n",
        "! git clone https://github.com/harisreedhar/Swap-Mukham"
      ]
    },
    {
      "cell_type": "markdown",
      "source": [
        "# Install Requirements"
      ],
      "metadata": {
        "id": "bebBDddfWTXf"
      }
    },
    {
      "cell_type": "code",
      "source": [
        "#@title\n",
        "%cd Swap-Mukham/\n",
        "print(\"Installing requirements...\")\n",
        "!pip install -r requirements.txt -q\n",
        "!pip install gdown\n",
        "print(\"Installing requirements done.\")"
      ],
      "metadata": {
        "id": "VgTpg7EsTN3o"
      },
      "execution_count": null,
      "outputs": []
    },
    {
      "cell_type": "markdown",
      "source": [
        "# Download Models"
      ],
      "metadata": {
        "id": "T9L6tgD0Wats"
      }
    },
    {
      "cell_type": "code",
      "source": [
        "#@title\n",
        "inswapper_model = \"https://huggingface.co/deepinsight/inswapper/resolve/main/inswapper_128.onnx\" #@param {type:\"string\"}\n",
        "gfpgan_model = \"https://github.com/TencentARC/GFPGAN/releases/download/v1.3.0/GFPGANv1.4.pth\" #@param {type:\"string\"}\n",
        "face_parser_model = \"https://drive.google.com/open?id=154JgKpzCPW82qINcVieuPH3fZ2e0P812\" #@param {type:\"string\"}\n",
        "\n",
        "import gdown\n",
        "import urllib.request\n",
        "print(\"Downloading swapper model...\")\n",
        "urllib.request.urlretrieve(inswapper_model, \"/content/Swap-Mukham/assets/pretrained_models/inswapper_128.onnx\")\n",
        "print(\"Downloading face enhancer model...\")\n",
        "urllib.request.urlretrieve(gfpgan_model, \"/content/Swap-Mukham/assets/pretrained_models/GFPGANv1.4.pth\")\n",
        "print(\"Downloading face enhancer model...\")\n",
        "gdown.download(face_parser_model, \"/content/Swap-Mukham/assets/pretrained_models/79999_iter.pth\")\n",
        "print(\"Downloading models done.\")"
      ],
      "metadata": {
        "id": "17MZO9OvUQAk"
      },
      "execution_count": null,
      "outputs": []
    },
    {
      "cell_type": "markdown",
      "source": [
        "# Mount Google drive (optional)"
      ],
      "metadata": {
        "id": "uEcCUw0Co6bE"
      }
    },
    {
      "cell_type": "code",
      "source": [
        "from google.colab import auth, drive\n",
        "auth.authenticate_user()\n",
        "drive.mount('/content/drive')"
      ],
      "metadata": {
        "id": "4KssYYippDMw"
      },
      "execution_count": null,
      "outputs": []
    },
    {
      "cell_type": "markdown",
      "source": [
        "# Run App\n",
        "\n"
      ],
      "metadata": {
        "id": "-Tn68Ayqdrlk"
      }
    },
    {
      "cell_type": "code",
      "source": [
        "#@title\n",
        "default_output_path = \"/content/Swap-Mukham\" #@param {type:\"string\"}\n",
        "\n",
        "command = f\"python app.py --cuda --colab --out_dir {default_output_path}\"\n",
        "!{command}"
      ],
      "metadata": {
        "id": "6dpBjbfVOrrc"
      },
      "execution_count": null,
      "outputs": []
    }
  ]
}